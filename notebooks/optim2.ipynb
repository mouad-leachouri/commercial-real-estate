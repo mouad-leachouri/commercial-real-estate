{
 "cells": [
  {
   "cell_type": "markdown",
   "metadata": {},
   "source": [
    "# **Portfolio optimization for 2030**"
   ]
  },
  {
   "cell_type": "code",
   "execution_count": 22,
   "metadata": {},
   "outputs": [],
   "source": [
    "import numpy as np\n",
    "import pandas as pd\n",
    "import matplotlib.pyplot as plt\n",
    "\n",
    "import cvxpy as cp\n",
    "\n",
    "from prophet import Prophet\n",
    "\n",
    "import sys\n",
    "sys.path.append('../src')\n",
    "from utils import *"
   ]
  },
  {
   "cell_type": "markdown",
   "metadata": {},
   "source": [
    "# **We predict yearly carbon emission per surface, for 2030:**"
   ]
  },
  {
   "cell_type": "markdown",
   "metadata": {},
   "source": [
    "We will train our model this time on `final_data.csv` entirely. We are looking for 2030 predictions."
   ]
  },
  {
   "cell_type": "code",
   "execution_count": 2,
   "metadata": {},
   "outputs": [],
   "source": [
    "# Read preprocessed data\n",
    "data_raw = pd.read_csv('../data/processed/final_data.csv', index_col='Unnamed: 0', parse_dates=['date_etablissement_dpe'])"
   ]
  },
  {
   "cell_type": "code",
   "execution_count": 3,
   "metadata": {},
   "outputs": [],
   "source": [
    "# Split data according to category\n",
    "data = split(data_raw)"
   ]
  },
  {
   "cell_type": "code",
   "execution_count": 4,
   "metadata": {},
   "outputs": [],
   "source": [
    "ts ={key: {freq: extract_vect_ts(df, freq) for freq in ['D', 'W', 'ME']} for key, df in data.items()}"
   ]
  },
  {
   "cell_type": "markdown",
   "metadata": {},
   "source": [
    "We prepare the data for Prophet model"
   ]
  },
  {
   "cell_type": "code",
   "execution_count": 5,
   "metadata": {},
   "outputs": [],
   "source": [
    "## Prophet nomenclature\n",
    "def Prophetnom(df):\n",
    "    df.reset_index(inplace=True)\n",
    "    df.rename(columns={'date_etablissement_dpe':'ds','emission_ges':'y'}, inplace=True)\n",
    "\n",
    "Prophetnom(ts['admin']['W'])\n",
    "Prophetnom(ts['centre_com']['W'])\n",
    "Prophetnom(ts['autre']['W'])\n",
    "Prophetnom(ts['occup_cont']['W'])\n"
   ]
  },
  {
   "cell_type": "markdown",
   "metadata": {},
   "source": [
    "Here, we create the model and we fit it"
   ]
  },
  {
   "cell_type": "code",
   "execution_count": 6,
   "metadata": {},
   "outputs": [
    {
     "name": "stderr",
     "output_type": "stream",
     "text": [
      "00:08:56 - cmdstanpy - INFO - Chain [1] start processing\n",
      "00:08:57 - cmdstanpy - INFO - Chain [1] done processing\n",
      "00:08:57 - cmdstanpy - INFO - Chain [1] start processing\n",
      "00:08:58 - cmdstanpy - INFO - Chain [1] done processing\n",
      "00:08:58 - cmdstanpy - INFO - Chain [1] start processing\n",
      "00:08:58 - cmdstanpy - INFO - Chain [1] done processing\n",
      "00:08:58 - cmdstanpy - INFO - Chain [1] start processing\n",
      "00:08:58 - cmdstanpy - INFO - Chain [1] done processing\n"
     ]
    },
    {
     "data": {
      "text/plain": [
       "<prophet.forecaster.Prophet at 0x1951071cfb0>"
      ]
     },
     "execution_count": 6,
     "metadata": {},
     "output_type": "execute_result"
    }
   ],
   "source": [
    "# Model for each category\n",
    "\n",
    "model_admin=Prophet()\n",
    "model_centre_com=Prophet()\n",
    "model_autre=Prophet()\n",
    "model_occup_cont=Prophet()\n",
    "\n",
    "\n",
    "# Fitting \n",
    "\n",
    "model_admin.fit(ts['admin']['W'])\n",
    "model_centre_com.fit(ts['centre_com']['W'])\n",
    "model_autre.fit(ts['autre']['W'])\n",
    "model_occup_cont.fit(ts['occup_cont']['W'])"
   ]
  },
  {
   "cell_type": "code",
   "execution_count": 7,
   "metadata": {},
   "outputs": [],
   "source": [
    "# The forecast\n",
    "# With the following exact periods, the last line of our predictions correspond to the first week of 2030\n",
    "future_admin = model_admin.make_future_dataframe(periods=52 * 5+1, freq='W')\n",
    "future_centre_com = model_centre_com.make_future_dataframe(periods=52 * 5+1, freq='W')\n",
    "future_autre = model_autre.make_future_dataframe(periods=52 * 5+1, freq='W')\n",
    "future_occup_cont = model_occup_cont.make_future_dataframe(periods=52 * 5+1, freq='W')\n",
    "\n",
    "forecast_admin = model_admin.predict(future_admin)\n",
    "forecast_centre_com = model_centre_com.predict(future_centre_com)\n",
    "forecast_autre = model_autre.predict(future_autre)\n",
    "forecast_occup_cont = model_occup_cont.predict(future_occup_cont)"
   ]
  },
  {
   "cell_type": "markdown",
   "metadata": {},
   "source": [
    "# **We use `markowitz_dataset.csv` to build a credit rate table by building category:**"
   ]
  },
  {
   "cell_type": "code",
   "execution_count": 8,
   "metadata": {},
   "outputs": [],
   "source": [
    "data_rate = pd.read_csv('../data/raw/markowitz_dataset.csv', encoding='latin1', usecols=['asset_type_cre', 'taux_credit'])"
   ]
  },
  {
   "cell_type": "code",
   "execution_count": 9,
   "metadata": {},
   "outputs": [],
   "source": [
    "data_rate=pd.DataFrame(data_rate.groupby('asset_type_cre').mean())"
   ]
  },
  {
   "cell_type": "code",
   "execution_count": 10,
   "metadata": {},
   "outputs": [],
   "source": [
    "data_rate.reset_index(inplace=True)"
   ]
  },
  {
   "cell_type": "code",
   "execution_count": 11,
   "metadata": {},
   "outputs": [],
   "source": [
    "def asset_type_format_fct(x):\n",
    "    return asset_type_format[x]\n",
    "\n",
    "\n",
    "asset_type_format={\"Bâtiment à usage principale de bureau, d'administration ou d'enseignement\":\"admin\",\n",
    "                   \"Bâtiment à occupation continue (par exemple: hopitaux, hôtels, internats, maisons de retraite, etc)\":\"occup_cont\",\n",
    "                   \"Autres cas (par exemple: théâtres, salles de sport, restauration, commerces individuels, etc)\":\"autre\",\n",
    "                   \"Centre commercial\":\"centre_com\"}"
   ]
  },
  {
   "cell_type": "code",
   "execution_count": 12,
   "metadata": {},
   "outputs": [],
   "source": [
    "data_rate.asset_type_cre=data_rate.asset_type_cre.apply(asset_type_format_fct)"
   ]
  },
  {
   "cell_type": "code",
   "execution_count": 13,
   "metadata": {},
   "outputs": [
    {
     "data": {
      "text/html": [
       "<div>\n",
       "<style scoped>\n",
       "    .dataframe tbody tr th:only-of-type {\n",
       "        vertical-align: middle;\n",
       "    }\n",
       "\n",
       "    .dataframe tbody tr th {\n",
       "        vertical-align: top;\n",
       "    }\n",
       "\n",
       "    .dataframe thead th {\n",
       "        text-align: right;\n",
       "    }\n",
       "</style>\n",
       "<table border=\"1\" class=\"dataframe\">\n",
       "  <thead>\n",
       "    <tr style=\"text-align: right;\">\n",
       "      <th></th>\n",
       "      <th>asset_type_cre</th>\n",
       "      <th>taux_credit</th>\n",
       "    </tr>\n",
       "  </thead>\n",
       "  <tbody>\n",
       "    <tr>\n",
       "      <th>0</th>\n",
       "      <td>autre</td>\n",
       "      <td>0.032059</td>\n",
       "    </tr>\n",
       "    <tr>\n",
       "      <th>1</th>\n",
       "      <td>occup_cont</td>\n",
       "      <td>0.022727</td>\n",
       "    </tr>\n",
       "    <tr>\n",
       "      <th>2</th>\n",
       "      <td>admin</td>\n",
       "      <td>0.020678</td>\n",
       "    </tr>\n",
       "    <tr>\n",
       "      <th>3</th>\n",
       "      <td>centre_com</td>\n",
       "      <td>0.023780</td>\n",
       "    </tr>\n",
       "  </tbody>\n",
       "</table>\n",
       "</div>"
      ],
      "text/plain": [
       "  asset_type_cre  taux_credit\n",
       "0          autre     0.032059\n",
       "1     occup_cont     0.022727\n",
       "2          admin     0.020678\n",
       "3     centre_com     0.023780"
      ]
     },
     "execution_count": 13,
     "metadata": {},
     "output_type": "execute_result"
    }
   ],
   "source": [
    "data_rate"
   ]
  },
  {
   "cell_type": "code",
   "execution_count": 14,
   "metadata": {},
   "outputs": [
    {
     "data": {
      "text/plain": [
       "11.617772073894313"
      ]
     },
     "execution_count": 14,
     "metadata": {},
     "output_type": "execute_result"
    }
   ],
   "source": [
    "forecast_admin['yhat'].iloc[-1]"
   ]
  },
  {
   "cell_type": "code",
   "execution_count": 15,
   "metadata": {},
   "outputs": [],
   "source": [
    "data_emission_2030=pd.DataFrame({'asset_type_cre':['admin','autre','centre_com','occup_cont'],\n",
    "                                 'emission_ges':[forecast_admin['yhat'].iloc[-1],forecast_autre['yhat'].iloc[-1],forecast_centre_com['yhat'].iloc[-1],forecast_occup_cont['yhat'].iloc[-1]]})\n"
   ]
  },
  {
   "cell_type": "code",
   "execution_count": 16,
   "metadata": {},
   "outputs": [
    {
     "data": {
      "text/html": [
       "<div>\n",
       "<style scoped>\n",
       "    .dataframe tbody tr th:only-of-type {\n",
       "        vertical-align: middle;\n",
       "    }\n",
       "\n",
       "    .dataframe tbody tr th {\n",
       "        vertical-align: top;\n",
       "    }\n",
       "\n",
       "    .dataframe thead th {\n",
       "        text-align: right;\n",
       "    }\n",
       "</style>\n",
       "<table border=\"1\" class=\"dataframe\">\n",
       "  <thead>\n",
       "    <tr style=\"text-align: right;\">\n",
       "      <th></th>\n",
       "      <th>asset_type_cre</th>\n",
       "      <th>emission_ges</th>\n",
       "    </tr>\n",
       "  </thead>\n",
       "  <tbody>\n",
       "    <tr>\n",
       "      <th>0</th>\n",
       "      <td>admin</td>\n",
       "      <td>11.617772</td>\n",
       "    </tr>\n",
       "    <tr>\n",
       "      <th>1</th>\n",
       "      <td>autre</td>\n",
       "      <td>15.692469</td>\n",
       "    </tr>\n",
       "    <tr>\n",
       "      <th>2</th>\n",
       "      <td>centre_com</td>\n",
       "      <td>9.778857</td>\n",
       "    </tr>\n",
       "    <tr>\n",
       "      <th>3</th>\n",
       "      <td>occup_cont</td>\n",
       "      <td>11.140794</td>\n",
       "    </tr>\n",
       "  </tbody>\n",
       "</table>\n",
       "</div>"
      ],
      "text/plain": [
       "  asset_type_cre  emission_ges\n",
       "0          admin     11.617772\n",
       "1          autre     15.692469\n",
       "2     centre_com      9.778857\n",
       "3     occup_cont     11.140794"
      ]
     },
     "execution_count": 16,
     "metadata": {},
     "output_type": "execute_result"
    }
   ],
   "source": [
    "data_emission_2030"
   ]
  },
  {
   "cell_type": "code",
   "execution_count": 17,
   "metadata": {},
   "outputs": [],
   "source": [
    "data_2030=data_rate.set_index('asset_type_cre', drop=True).join(data_emission_2030.set_index('asset_type_cre',drop=True))"
   ]
  },
  {
   "cell_type": "code",
   "execution_count": 18,
   "metadata": {},
   "outputs": [
    {
     "data": {
      "text/html": [
       "<div>\n",
       "<style scoped>\n",
       "    .dataframe tbody tr th:only-of-type {\n",
       "        vertical-align: middle;\n",
       "    }\n",
       "\n",
       "    .dataframe tbody tr th {\n",
       "        vertical-align: top;\n",
       "    }\n",
       "\n",
       "    .dataframe thead th {\n",
       "        text-align: right;\n",
       "    }\n",
       "</style>\n",
       "<table border=\"1\" class=\"dataframe\">\n",
       "  <thead>\n",
       "    <tr style=\"text-align: right;\">\n",
       "      <th></th>\n",
       "      <th>taux_credit</th>\n",
       "      <th>emission_ges</th>\n",
       "    </tr>\n",
       "    <tr>\n",
       "      <th>asset_type_cre</th>\n",
       "      <th></th>\n",
       "      <th></th>\n",
       "    </tr>\n",
       "  </thead>\n",
       "  <tbody>\n",
       "    <tr>\n",
       "      <th>autre</th>\n",
       "      <td>0.032059</td>\n",
       "      <td>15.692469</td>\n",
       "    </tr>\n",
       "    <tr>\n",
       "      <th>occup_cont</th>\n",
       "      <td>0.022727</td>\n",
       "      <td>11.140794</td>\n",
       "    </tr>\n",
       "    <tr>\n",
       "      <th>admin</th>\n",
       "      <td>0.020678</td>\n",
       "      <td>11.617772</td>\n",
       "    </tr>\n",
       "    <tr>\n",
       "      <th>centre_com</th>\n",
       "      <td>0.023780</td>\n",
       "      <td>9.778857</td>\n",
       "    </tr>\n",
       "  </tbody>\n",
       "</table>\n",
       "</div>"
      ],
      "text/plain": [
       "                taux_credit  emission_ges\n",
       "asset_type_cre                           \n",
       "autre              0.032059     15.692469\n",
       "occup_cont         0.022727     11.140794\n",
       "admin              0.020678     11.617772\n",
       "centre_com         0.023780      9.778857"
      ]
     },
     "execution_count": 18,
     "metadata": {},
     "output_type": "execute_result"
    }
   ],
   "source": [
    "data_2030"
   ]
  },
  {
   "cell_type": "markdown",
   "metadata": {},
   "source": [
    "As we did in `optim1.ipynb`, we solve the optimisation problem:"
   ]
  },
  {
   "cell_type": "code",
   "execution_count": 21,
   "metadata": {},
   "outputs": [
    {
     "data": {
      "image/png": "[encoded data removed]",
      "text/plain": [
       "<Figure size 640x480 with 1 Axes>"
      ]
     },
     "metadata": {},
     "output_type": "display_data"
    }
   ],
   "source": [
    "# Inputs\n",
    "r = np.array(data_2030.taux_credit)\n",
    "e = np.array(data_2030.emission_ges)\n",
    "n = len(r)\n",
    "\n",
    "# Visualisation\n",
    "r_opt = []\n",
    "e_opt = []\n",
    "w_opt = []\n",
    "\n",
    "for t in np.arange(9.8, 16, 0.1):\n",
    "    w = cp.Variable(n, nonneg=True)\n",
    "    objective = cp.Minimize(- w@r)\n",
    "    contraints = [\n",
    "        cp.sum(w) == 1, \n",
    "        w@e <= t\n",
    "    ]\n",
    "\n",
    "    # Résolution\n",
    "    prob = cp.Problem(objective, contraints)\n",
    "    prob.solve()\n",
    "    \n",
    "    w = w.value\n",
    "    \n",
    "    w_opt.append(w)\n",
    "    r_opt.append(w@r)\n",
    "    e_opt.append(w@e)\n",
    "\n",
    "def singularities(x, y, tol):\n",
    "    singu = []\n",
    "    for i in range(1, len(y)-1):\n",
    "        if abs(((y[i+1] - y[i])/(x[i+1] - x[i])) - ((y[i] - y[i-1])/(x[i] - x[i-1])))>tol:\n",
    "            singu.append([x[i], y[i]])\n",
    "    return singu\n",
    "\n",
    "\n",
    "singu = np.array(singularities(e_opt, r_opt, tol=1e-6))\n",
    "plt.scatter(x=e_opt, y=r_opt)\n",
    "\n",
    "plt.grid(True)\n",
    "plt.ylabel(\"Rendement du portefeuille\")\n",
    "plt.xlabel(\"Emissions GES (kg/m$^2$/an)\")\n",
    "plt.title(\"Frontière efficiente\")\n",
    "plt.tight_layout()\n",
    "plt.show()"
   ]
  }
 ],
 "metadata": {
  "kernelspec": {
   "display_name": "Python 3",
   "language": "python",
   "name": "python3"
  },
  "language_info": {
   "codemirror_mode": {
    "name": "ipython",
    "version": 3
   },
   "file_extension": ".py",
   "mimetype": "text/x-python",
   "name": "python",
   "nbconvert_exporter": "python",
   "pygments_lexer": "ipython3",
   "version": "3.12.0"
  }
 },
 "nbformat": 4,
 "nbformat_minor": 2
}
