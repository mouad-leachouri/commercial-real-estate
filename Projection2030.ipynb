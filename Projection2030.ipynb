{
 "cells": [
  {
   "cell_type": "code",
   "execution_count": 130,
   "metadata": {},
   "outputs": [],
   "source": [
    "import numpy as np\n",
    "import pandas as pd\n",
    "import matplotlib.pyplot as plt\n",
    "import cvxpy as cp\n",
    "import seaborn as sns\n",
    "from prophet import Prophet\n",
    "from sklearn.metrics import mean_absolute_error, mean_squared_error, r2_score\n",
    "from aggregate import *\n",
    "from utils import *"
   ]
  },
  {
   "cell_type": "markdown",
   "metadata": {},
   "source": [
    "# **We predict yearly carbon emission per surface, for 2030:**"
   ]
  },
  {
   "cell_type": "markdown",
   "metadata": {},
   "source": [
    "We will train our model this time on `final_data.csv` entirely. We are looking for 2030 predictions."
   ]
  },
  {
   "cell_type": "code",
   "execution_count": 131,
   "metadata": {},
   "outputs": [],
   "source": [
    "# Read preprocessed data\n",
    "data_raw = pd.read_csv('final_data.csv', index_col='Unnamed: 0', parse_dates=['date_etablissement_dpe'])"
   ]
  },
  {
   "cell_type": "code",
   "execution_count": 132,
   "metadata": {},
   "outputs": [],
   "source": [
    "\n",
    "# Split data according to category\n",
    "data = split(data_raw)"
   ]
  },
  {
   "cell_type": "markdown",
   "metadata": {},
   "source": [
    "Let's take a look at the unique dates to have an idea of the size of our time series."
   ]
  },
  {
   "cell_type": "code",
   "execution_count": 133,
   "metadata": {},
   "outputs": [
    {
     "name": "stdout",
     "output_type": "stream",
     "text": [
      "Column: admin      ---> Size = 4252\n",
      "Column: centre_com ---> Size = 3418\n",
      "Column: occup_cont ---> Size = 3246\n",
      "Column: autre      ---> Size = 4043\n"
     ]
    }
   ],
   "source": [
    "for key in data.keys():\n",
    "    print(f'Column: {key}'.ljust(19, ' ') + '--->' + f'Size = {data[key].date_etablissement_dpe.unique().shape[0]}'.rjust(12, ' '))"
   ]
  },
  {
   "cell_type": "markdown",
   "metadata": {},
   "source": [
    "**Aggregating columns with respect to the date column**"
   ]
  },
  {
   "cell_type": "code",
   "execution_count": 134,
   "metadata": {},
   "outputs": [
    {
     "name": "stderr",
     "output_type": "stream",
     "text": [
      "c:\\Users\\chiha\\Studies\\Centralesupelec\\2A\\Scolarité\\Projet BNP\\github\\commercial-real-estate\\utils.py:69: FutureWarning: 'M' is deprecated and will be removed in a future version, please use 'ME' instead.\n",
      "  ts = ts.resample(freq).mean().resample(freq).interpolate(method='linear')\n",
      "c:\\Users\\chiha\\Studies\\Centralesupelec\\2A\\Scolarité\\Projet BNP\\github\\commercial-real-estate\\utils.py:69: FutureWarning: 'M' is deprecated and will be removed in a future version, please use 'ME' instead.\n",
      "  ts = ts.resample(freq).mean().resample(freq).interpolate(method='linear')\n",
      "c:\\Users\\chiha\\Studies\\Centralesupelec\\2A\\Scolarité\\Projet BNP\\github\\commercial-real-estate\\utils.py:69: FutureWarning: 'M' is deprecated and will be removed in a future version, please use 'ME' instead.\n",
      "  ts = ts.resample(freq).mean().resample(freq).interpolate(method='linear')\n",
      "c:\\Users\\chiha\\Studies\\Centralesupelec\\2A\\Scolarité\\Projet BNP\\github\\commercial-real-estate\\utils.py:69: FutureWarning: 'M' is deprecated and will be removed in a future version, please use 'ME' instead.\n",
      "  ts = ts.resample(freq).mean().resample(freq).interpolate(method='linear')\n"
     ]
    }
   ],
   "source": [
    "ts ={key: {freq: extract_vect_ts(df, freq) for freq in ['D', 'W', 'M']} for key, df in data.items()}"
   ]
  },
  {
   "cell_type": "code",
   "execution_count": 135,
   "metadata": {},
   "outputs": [
    {
     "data": {
      "text/html": [
       "<div>\n",
       "<style scoped>\n",
       "    .dataframe tbody tr th:only-of-type {\n",
       "        vertical-align: middle;\n",
       "    }\n",
       "\n",
       "    .dataframe tbody tr th {\n",
       "        vertical-align: top;\n",
       "    }\n",
       "\n",
       "    .dataframe thead th {\n",
       "        text-align: right;\n",
       "    }\n",
       "</style>\n",
       "<table border=\"1\" class=\"dataframe\">\n",
       "  <thead>\n",
       "    <tr style=\"text-align: right;\">\n",
       "      <th></th>\n",
       "      <th>annee_construction</th>\n",
       "      <th>surface_utile</th>\n",
       "      <th>coord_x</th>\n",
       "      <th>coord_y</th>\n",
       "      <th>emission_ges</th>\n",
       "    </tr>\n",
       "    <tr>\n",
       "      <th>date_etablissement_dpe</th>\n",
       "      <th></th>\n",
       "      <th></th>\n",
       "      <th></th>\n",
       "      <th></th>\n",
       "      <th></th>\n",
       "    </tr>\n",
       "  </thead>\n",
       "  <tbody>\n",
       "    <tr>\n",
       "      <th>2013-01-13</th>\n",
       "      <td>1974.000000</td>\n",
       "      <td>100.000000</td>\n",
       "      <td>661276.385727</td>\n",
       "      <td>6.863710e+06</td>\n",
       "      <td>27.130000</td>\n",
       "    </tr>\n",
       "    <tr>\n",
       "      <th>2013-01-20</th>\n",
       "      <td>1974.000000</td>\n",
       "      <td>100.000000</td>\n",
       "      <td>642131.351753</td>\n",
       "      <td>6.841609e+06</td>\n",
       "      <td>27.515000</td>\n",
       "    </tr>\n",
       "    <tr>\n",
       "      <th>2013-01-27</th>\n",
       "      <td>1974.000000</td>\n",
       "      <td>100.000000</td>\n",
       "      <td>622986.317779</td>\n",
       "      <td>6.819508e+06</td>\n",
       "      <td>27.900000</td>\n",
       "    </tr>\n",
       "    <tr>\n",
       "      <th>2013-02-03</th>\n",
       "      <td>1974.000000</td>\n",
       "      <td>100.000000</td>\n",
       "      <td>603841.283805</td>\n",
       "      <td>6.797406e+06</td>\n",
       "      <td>28.285000</td>\n",
       "    </tr>\n",
       "    <tr>\n",
       "      <th>2013-02-10</th>\n",
       "      <td>1974.000000</td>\n",
       "      <td>100.000000</td>\n",
       "      <td>584696.249830</td>\n",
       "      <td>6.775305e+06</td>\n",
       "      <td>28.670000</td>\n",
       "    </tr>\n",
       "    <tr>\n",
       "      <th>...</th>\n",
       "      <td>...</td>\n",
       "      <td>...</td>\n",
       "      <td>...</td>\n",
       "      <td>...</td>\n",
       "      <td>...</td>\n",
       "    </tr>\n",
       "    <tr>\n",
       "      <th>2024-12-08</th>\n",
       "      <td>1966.110170</td>\n",
       "      <td>234.024132</td>\n",
       "      <td>675958.215238</td>\n",
       "      <td>6.663887e+06</td>\n",
       "      <td>11.360938</td>\n",
       "    </tr>\n",
       "    <tr>\n",
       "      <th>2024-12-15</th>\n",
       "      <td>1966.023341</td>\n",
       "      <td>177.840398</td>\n",
       "      <td>661427.597506</td>\n",
       "      <td>6.661860e+06</td>\n",
       "      <td>8.770826</td>\n",
       "    </tr>\n",
       "    <tr>\n",
       "      <th>2024-12-22</th>\n",
       "      <td>1965.049847</td>\n",
       "      <td>173.369254</td>\n",
       "      <td>651383.875067</td>\n",
       "      <td>6.653682e+06</td>\n",
       "      <td>9.580173</td>\n",
       "    </tr>\n",
       "    <tr>\n",
       "      <th>2024-12-29</th>\n",
       "      <td>1962.139639</td>\n",
       "      <td>127.898056</td>\n",
       "      <td>614020.501702</td>\n",
       "      <td>6.710055e+06</td>\n",
       "      <td>10.300846</td>\n",
       "    </tr>\n",
       "    <tr>\n",
       "      <th>2025-01-05</th>\n",
       "      <td>1970.898810</td>\n",
       "      <td>116.091176</td>\n",
       "      <td>704362.421998</td>\n",
       "      <td>6.666308e+06</td>\n",
       "      <td>9.299611</td>\n",
       "    </tr>\n",
       "  </tbody>\n",
       "</table>\n",
       "<p>626 rows × 5 columns</p>\n",
       "</div>"
      ],
      "text/plain": [
       "                        annee_construction  surface_utile        coord_x  \\\n",
       "date_etablissement_dpe                                                     \n",
       "2013-01-13                     1974.000000     100.000000  661276.385727   \n",
       "2013-01-20                     1974.000000     100.000000  642131.351753   \n",
       "2013-01-27                     1974.000000     100.000000  622986.317779   \n",
       "2013-02-03                     1974.000000     100.000000  603841.283805   \n",
       "2013-02-10                     1974.000000     100.000000  584696.249830   \n",
       "...                                    ...            ...            ...   \n",
       "2024-12-08                     1966.110170     234.024132  675958.215238   \n",
       "2024-12-15                     1966.023341     177.840398  661427.597506   \n",
       "2024-12-22                     1965.049847     173.369254  651383.875067   \n",
       "2024-12-29                     1962.139639     127.898056  614020.501702   \n",
       "2025-01-05                     1970.898810     116.091176  704362.421998   \n",
       "\n",
       "                             coord_y  emission_ges  \n",
       "date_etablissement_dpe                              \n",
       "2013-01-13              6.863710e+06     27.130000  \n",
       "2013-01-20              6.841609e+06     27.515000  \n",
       "2013-01-27              6.819508e+06     27.900000  \n",
       "2013-02-03              6.797406e+06     28.285000  \n",
       "2013-02-10              6.775305e+06     28.670000  \n",
       "...                              ...           ...  \n",
       "2024-12-08              6.663887e+06     11.360938  \n",
       "2024-12-15              6.661860e+06      8.770826  \n",
       "2024-12-22              6.653682e+06      9.580173  \n",
       "2024-12-29              6.710055e+06     10.300846  \n",
       "2025-01-05              6.666308e+06      9.299611  \n",
       "\n",
       "[626 rows x 5 columns]"
      ]
     },
     "execution_count": 135,
     "metadata": {},
     "output_type": "execute_result"
    }
   ],
   "source": [
    "ts['admin']['W']  # ts['sector']['frequency']"
   ]
  },
  {
   "cell_type": "markdown",
   "metadata": {},
   "source": [
    "_Remark:_ For the resampling step, only 156 rows out of our 4375 rows were interpolated, the remaining rows were already present in the dataset."
   ]
  },
  {
   "cell_type": "markdown",
   "metadata": {},
   "source": [
    "We prepare the data for Prophet model"
   ]
  },
  {
   "cell_type": "code",
   "execution_count": 136,
   "metadata": {},
   "outputs": [],
   "source": [
    "## Prophet nomenclature\n",
    "def Prophetnom(df):\n",
    "    df.reset_index(inplace=True)\n",
    "    df.rename(columns={'date_etablissement_dpe':'ds','emission_ges':'y'}, inplace=True)\n",
    "\n",
    "Prophetnom(ts['admin']['W'])\n",
    "Prophetnom(ts['centre_com']['W'])\n",
    "Prophetnom(ts['autre']['W'])\n",
    "Prophetnom(ts['occup_cont']['W'])\n"
   ]
  },
  {
   "cell_type": "markdown",
   "metadata": {},
   "source": [
    "Here, we create the model and we fit it"
   ]
  },
  {
   "cell_type": "code",
   "execution_count": 137,
   "metadata": {},
   "outputs": [
    {
     "name": "stderr",
     "output_type": "stream",
     "text": [
      "18:55:50 - cmdstanpy - INFO - Chain [1] start processing\n",
      "18:55:50 - cmdstanpy - INFO - Chain [1] done processing\n",
      "18:55:50 - cmdstanpy - INFO - Chain [1] start processing\n",
      "18:55:50 - cmdstanpy - INFO - Chain [1] done processing\n",
      "18:55:50 - cmdstanpy - INFO - Chain [1] start processing\n",
      "18:55:51 - cmdstanpy - INFO - Chain [1] done processing\n",
      "18:55:51 - cmdstanpy - INFO - Chain [1] start processing\n",
      "18:55:51 - cmdstanpy - INFO - Chain [1] done processing\n"
     ]
    },
    {
     "data": {
      "text/plain": [
       "<prophet.forecaster.Prophet at 0x1e8de587bf0>"
      ]
     },
     "execution_count": 137,
     "metadata": {},
     "output_type": "execute_result"
    }
   ],
   "source": [
    "# Model for each category\n",
    "\n",
    "model_admin=Prophet()\n",
    "model_centre_com=Prophet()\n",
    "model_autre=Prophet()\n",
    "model_occup_cont=Prophet()\n",
    "\n",
    "\n",
    "# Fitting \n",
    "\n",
    "model_admin.fit(ts['admin']['W'])\n",
    "model_centre_com.fit(ts['centre_com']['W'])\n",
    "model_autre.fit(ts['autre']['W'])\n",
    "model_occup_cont.fit(ts['occup_cont']['W'])"
   ]
  },
  {
   "cell_type": "code",
   "execution_count": 138,
   "metadata": {},
   "outputs": [],
   "source": [
    "# The forecast\n",
    "# With the following exact periods, the last line of our predictions correspond to the first week of 2030\n",
    "future_admin = model_admin.make_future_dataframe(periods=52 * 5+1, freq='W')\n",
    "future_centre_com = model_centre_com.make_future_dataframe(periods=52 * 5+1, freq='W')\n",
    "future_autre = model_autre.make_future_dataframe(periods=52 * 5+1, freq='W')\n",
    "future_occup_cont = model_occup_cont.make_future_dataframe(periods=52 * 5+1, freq='W')\n",
    "\n",
    "forecast_admin = model_admin.predict(future_admin)\n",
    "forecast_centre_com = model_centre_com.predict(future_centre_com)\n",
    "forecast_autre = model_autre.predict(future_autre)\n",
    "forecast_occup_cont = model_occup_cont.predict(future_occup_cont)"
   ]
  },
  {
   "cell_type": "markdown",
   "metadata": {},
   "source": [
    "# **We use `markowitz_dataset.csv` to build a credit rate table by building category.:**"
   ]
  },
  {
   "cell_type": "code",
   "execution_count": 139,
   "metadata": {},
   "outputs": [],
   "source": [
    "data_rate = pd.read_csv('data/markowitz_dataset.csv', encoding='latin1', usecols=['asset_type_cre', 'taux_credit'])"
   ]
  },
  {
   "cell_type": "code",
   "execution_count": 140,
   "metadata": {},
   "outputs": [],
   "source": [
    "data_rate=pd.DataFrame(data_rate.groupby('asset_type_cre').mean())"
   ]
  },
  {
   "cell_type": "code",
   "execution_count": 141,
   "metadata": {},
   "outputs": [],
   "source": [
    "data_rate.reset_index(inplace=True)"
   ]
  },
  {
   "cell_type": "code",
   "execution_count": 142,
   "metadata": {},
   "outputs": [],
   "source": [
    "def asset_type_format_fct(x):\n",
    "    return asset_type_format[x]\n",
    "\n",
    "\n",
    "asset_type_format={\"Bâtiment à usage principale de bureau, d'administration ou d'enseignement\":\"admin\",\n",
    "                   \"Bâtiment à occupation continue (par exemple: hopitaux, hôtels, internats, maisons de retraite, etc)\":\"occup_cont\",\n",
    "                   \"Autres cas (par exemple: théâtres, salles de sport, restauration, commerces individuels, etc)\":\"autre\",\n",
    "                   \"Centre commercial\":\"centre_com\"}"
   ]
  },
  {
   "cell_type": "code",
   "execution_count": 143,
   "metadata": {},
   "outputs": [],
   "source": [
    "data_rate.asset_type_cre=data_rate.asset_type_cre.apply(asset_type_format_fct)"
   ]
  },
  {
   "cell_type": "code",
   "execution_count": 144,
   "metadata": {},
   "outputs": [
    {
     "data": {
      "text/html": [
       "<div>\n",
       "<style scoped>\n",
       "    .dataframe tbody tr th:only-of-type {\n",
       "        vertical-align: middle;\n",
       "    }\n",
       "\n",
       "    .dataframe tbody tr th {\n",
       "        vertical-align: top;\n",
       "    }\n",
       "\n",
       "    .dataframe thead th {\n",
       "        text-align: right;\n",
       "    }\n",
       "</style>\n",
       "<table border=\"1\" class=\"dataframe\">\n",
       "  <thead>\n",
       "    <tr style=\"text-align: right;\">\n",
       "      <th></th>\n",
       "      <th>asset_type_cre</th>\n",
       "      <th>taux_credit</th>\n",
       "    </tr>\n",
       "  </thead>\n",
       "  <tbody>\n",
       "    <tr>\n",
       "      <th>0</th>\n",
       "      <td>autre</td>\n",
       "      <td>0.032059</td>\n",
       "    </tr>\n",
       "    <tr>\n",
       "      <th>1</th>\n",
       "      <td>occup_cont</td>\n",
       "      <td>0.022727</td>\n",
       "    </tr>\n",
       "    <tr>\n",
       "      <th>2</th>\n",
       "      <td>admin</td>\n",
       "      <td>0.020678</td>\n",
       "    </tr>\n",
       "    <tr>\n",
       "      <th>3</th>\n",
       "      <td>centre_com</td>\n",
       "      <td>0.023780</td>\n",
       "    </tr>\n",
       "  </tbody>\n",
       "</table>\n",
       "</div>"
      ],
      "text/plain": [
       "  asset_type_cre  taux_credit\n",
       "0          autre     0.032059\n",
       "1     occup_cont     0.022727\n",
       "2          admin     0.020678\n",
       "3     centre_com     0.023780"
      ]
     },
     "execution_count": 144,
     "metadata": {},
     "output_type": "execute_result"
    }
   ],
   "source": [
    "data_rate"
   ]
  },
  {
   "cell_type": "code",
   "execution_count": 145,
   "metadata": {},
   "outputs": [
    {
     "data": {
      "text/plain": [
       "np.float64(11.617772073894313)"
      ]
     },
     "execution_count": 145,
     "metadata": {},
     "output_type": "execute_result"
    }
   ],
   "source": [
    "forecast_admin['yhat'].iloc[-1]"
   ]
  },
  {
   "cell_type": "code",
   "execution_count": 146,
   "metadata": {},
   "outputs": [],
   "source": [
    "data_emission_2030=pd.DataFrame({'asset_type_cre':['admin','autre','centre_com','occup_cont'],\n",
    "                                 'emission_ges':[forecast_admin['yhat'].iloc[-1],forecast_autre['yhat'].iloc[-1],forecast_centre_com['yhat'].iloc[-1],forecast_occup_cont['yhat'].iloc[-1]]})\n"
   ]
  },
  {
   "cell_type": "code",
   "execution_count": 147,
   "metadata": {},
   "outputs": [
    {
     "data": {
      "text/html": [
       "<div>\n",
       "<style scoped>\n",
       "    .dataframe tbody tr th:only-of-type {\n",
       "        vertical-align: middle;\n",
       "    }\n",
       "\n",
       "    .dataframe tbody tr th {\n",
       "        vertical-align: top;\n",
       "    }\n",
       "\n",
       "    .dataframe thead th {\n",
       "        text-align: right;\n",
       "    }\n",
       "</style>\n",
       "<table border=\"1\" class=\"dataframe\">\n",
       "  <thead>\n",
       "    <tr style=\"text-align: right;\">\n",
       "      <th></th>\n",
       "      <th>asset_type_cre</th>\n",
       "      <th>emission_ges</th>\n",
       "    </tr>\n",
       "  </thead>\n",
       "  <tbody>\n",
       "    <tr>\n",
       "      <th>0</th>\n",
       "      <td>admin</td>\n",
       "      <td>11.617772</td>\n",
       "    </tr>\n",
       "    <tr>\n",
       "      <th>1</th>\n",
       "      <td>autre</td>\n",
       "      <td>15.692469</td>\n",
       "    </tr>\n",
       "    <tr>\n",
       "      <th>2</th>\n",
       "      <td>centre_com</td>\n",
       "      <td>9.778857</td>\n",
       "    </tr>\n",
       "    <tr>\n",
       "      <th>3</th>\n",
       "      <td>occup_cont</td>\n",
       "      <td>11.140794</td>\n",
       "    </tr>\n",
       "  </tbody>\n",
       "</table>\n",
       "</div>"
      ],
      "text/plain": [
       "  asset_type_cre  emission_ges\n",
       "0          admin     11.617772\n",
       "1          autre     15.692469\n",
       "2     centre_com      9.778857\n",
       "3     occup_cont     11.140794"
      ]
     },
     "execution_count": 147,
     "metadata": {},
     "output_type": "execute_result"
    }
   ],
   "source": [
    "data_emission_2030"
   ]
  },
  {
   "cell_type": "code",
   "execution_count": 148,
   "metadata": {},
   "outputs": [],
   "source": [
    "data_2030=data_rate.set_index('asset_type_cre', drop=True).join(data_emission_2030.set_index('asset_type_cre',drop=True))"
   ]
  },
  {
   "cell_type": "code",
   "execution_count": 149,
   "metadata": {},
   "outputs": [
    {
     "data": {
      "text/html": [
       "<div>\n",
       "<style scoped>\n",
       "    .dataframe tbody tr th:only-of-type {\n",
       "        vertical-align: middle;\n",
       "    }\n",
       "\n",
       "    .dataframe tbody tr th {\n",
       "        vertical-align: top;\n",
       "    }\n",
       "\n",
       "    .dataframe thead th {\n",
       "        text-align: right;\n",
       "    }\n",
       "</style>\n",
       "<table border=\"1\" class=\"dataframe\">\n",
       "  <thead>\n",
       "    <tr style=\"text-align: right;\">\n",
       "      <th></th>\n",
       "      <th>taux_credit</th>\n",
       "      <th>emission_ges</th>\n",
       "    </tr>\n",
       "    <tr>\n",
       "      <th>asset_type_cre</th>\n",
       "      <th></th>\n",
       "      <th></th>\n",
       "    </tr>\n",
       "  </thead>\n",
       "  <tbody>\n",
       "    <tr>\n",
       "      <th>autre</th>\n",
       "      <td>0.032059</td>\n",
       "      <td>15.692469</td>\n",
       "    </tr>\n",
       "    <tr>\n",
       "      <th>occup_cont</th>\n",
       "      <td>0.022727</td>\n",
       "      <td>11.140794</td>\n",
       "    </tr>\n",
       "    <tr>\n",
       "      <th>admin</th>\n",
       "      <td>0.020678</td>\n",
       "      <td>11.617772</td>\n",
       "    </tr>\n",
       "    <tr>\n",
       "      <th>centre_com</th>\n",
       "      <td>0.023780</td>\n",
       "      <td>9.778857</td>\n",
       "    </tr>\n",
       "  </tbody>\n",
       "</table>\n",
       "</div>"
      ],
      "text/plain": [
       "                taux_credit  emission_ges\n",
       "asset_type_cre                           \n",
       "autre              0.032059     15.692469\n",
       "occup_cont         0.022727     11.140794\n",
       "admin              0.020678     11.617772\n",
       "centre_com         0.023780      9.778857"
      ]
     },
     "execution_count": 149,
     "metadata": {},
     "output_type": "execute_result"
    }
   ],
   "source": [
    "data_2030"
   ]
  },
  {
   "cell_type": "markdown",
   "metadata": {},
   "source": [
    "As for `optim.py`, we solve the optimisation problem:"
   ]
  },
  {
   "cell_type": "code",
   "execution_count": 152,
   "metadata": {},
   "outputs": [
    {
     "name": "stdout",
     "output_type": "stream",
     "text": [
      "[15.69246896  0.03205882]\n",
      "[15.6924683   0.03205882]\n"
     ]
    },
    {
     "data": {
      "image/png": "[encoded data removed]",
      "text/plain": [
       "<Figure size 640x480 with 1 Axes>"
      ]
     },
     "metadata": {},
     "output_type": "display_data"
    },
    {
     "name": "stdout",
     "output_type": "stream",
     "text": [
      "[array([3.57527308e-03, 3.99297841e-08, 2.33272979e-08, 9.96424664e-01]), array([2.04852743e-02, 6.77298700e-08, 7.23994244e-08, 9.79514586e-01]), array([3.73953863e-02, 2.23501712e-07, 1.29243562e-07, 9.62604261e-01]), array([5.43056381e-02, 1.02111510e-07, 6.02444143e-08, 9.45694200e-01]), array([7.12158295e-02, 4.44278005e-08, 2.39912743e-08, 9.28784102e-01]), array([8.81259827e-02, 2.78868010e-08, 1.17847631e-08, 9.11873978e-01]), array([1.05036126e-01, 1.70219605e-08, 1.32737653e-09, 8.94963856e-01]), array([1.21946258e-01, 2.22740397e-08, 2.21696226e-09, 8.78053718e-01]), array([1.38856398e-01, 1.58903649e-08, 2.12333370e-09, 8.61143584e-01]), array([1.55766543e-01, 1.69184235e-08, 4.71496302e-09, 8.44233435e-01]), array([1.72676684e-01, 1.31758285e-08, 2.77724178e-09, 8.27323300e-01]), array([1.89586627e-01, 1.58361560e-07, 1.56870113e-07, 8.10413058e-01]), array([2.06496811e-01, 1.55463644e-07, 1.49329569e-07, 7.93502885e-01]), array([2.23406972e-01, 1.53910083e-07, 1.39789087e-07, 7.76592735e-01]), array([2.40317127e-01, 1.51017032e-07, 1.27643415e-07, 7.59682594e-01]), array([2.57227279e-01, 1.46887040e-07, 1.14986765e-07, 7.42772459e-01]), array([2.74137428e-01, 1.41472617e-07, 1.02360240e-07, 7.25862328e-01]), array([2.91047575e-01, 1.34680171e-07, 9.00738273e-08, 7.08952200e-01]), array([3.07957720e-01, 1.26742797e-07, 8.04591176e-08, 6.92042073e-01]), array([3.24867863e-01, 1.17896380e-07, 7.27258747e-08, 6.75131946e-01]), array([3.41778008e-01, 1.07854865e-07, 6.33203214e-08, 6.58221821e-01]), array([3.58688154e-01, 9.67780597e-08, 5.29645318e-08, 6.41311697e-01]), array([3.75598301e-01, 8.48079428e-08, 4.18611021e-08, 6.24401572e-01]), array([3.92508451e-01, 7.20217968e-08, 3.00644670e-08, 6.07491447e-01]), array([4.09418599e-01, 6.22925358e-08, 2.18153658e-08, 5.90581317e-01]), array([4.26328743e-01, 5.96948622e-08, 1.67916804e-08, 5.73671180e-01]), array([4.43238880e-01, 7.35257269e-08, 1.63248738e-08, 5.56761031e-01]), array([4.60149018e-01, 8.66129384e-08, 1.51643891e-08, 5.39850880e-01]), array([4.77059160e-01, 9.96535151e-08, 1.35929402e-08, 5.22940727e-01]), array([4.93969291e-01, 1.33692048e-07, 2.11311594e-08, 5.06030554e-01]), array([5.10879408e-01, 1.95208603e-07, 4.03476428e-08, 4.89120356e-01]), array([5.27789517e-01, 2.78654105e-07, 6.84302118e-08, 4.72210136e-01]), array([5.44699614e-01, 3.89405984e-07, 1.07646335e-07, 4.55299889e-01]), array([5.61609699e-01, 5.33216738e-07, 1.60663523e-07, 4.38389607e-01]), array([5.78519767e-01, 7.16450530e-07, 2.30861109e-07, 4.21479285e-01]), array([5.95429817e-01, 9.45262332e-07, 3.22366953e-07, 4.04568916e-01]), array([6.12340302e-01, 1.22494849e-08, 4.40043273e-09, 3.87659682e-01]), array([6.29250439e-01, 1.55531441e-08, 5.87837042e-09, 3.70749539e-01]), array([6.46160577e-01, 1.93265175e-08, 7.69189352e-09, 3.53839396e-01]), array([6.63070714e-01, 2.34453328e-08, 9.84527811e-09, 3.36929253e-01]), array([6.79980851e-01, 2.78177178e-08, 1.23557501e-08, 3.20019109e-01]), array([6.96890987e-01, 3.27151879e-08, 1.54034941e-08, 3.03108965e-01]), array([7.13801122e-01, 3.81380330e-08, 1.90593981e-08, 2.86198821e-01]), array([7.30711256e-01, 4.43057822e-08, 2.34874780e-08, 2.69288676e-01]), array([7.47621389e-01, 5.14721364e-08, 2.88568089e-08, 2.52378531e-01]), array([7.64531519e-01, 5.94874192e-08, 3.50592560e-08, 2.35468386e-01]), array([7.81441648e-01, 6.77054929e-08, 4.16334850e-08, 2.18558243e-01]), array([7.98351774e-01, 7.62414474e-08, 4.85408351e-08, 2.01648101e-01]), array([8.15261898e-01, 8.47160952e-08, 5.53726032e-08, 1.84737962e-01]), array([8.32172020e-01, 9.35732908e-08, 6.22697374e-08, 1.67827824e-01]), array([8.49082139e-01, 1.02886353e-07, 6.90825978e-08, 1.50917689e-01]), array([8.65992254e-01, 1.12084908e-07, 7.51781915e-08, 1.34007558e-01]), array([8.82902366e-01, 1.21120820e-07, 8.03162088e-08, 1.17097432e-01]), array([8.99812473e-01, 1.30645570e-07, 8.48539944e-08, 1.00187312e-01]), array([9.16722571e-01, 1.42295168e-07, 8.99203432e-08, 8.32771972e-02]), array([9.33632656e-01, 1.60357208e-07, 9.79656137e-08, 6.63670855e-02]), array([9.50542723e-01, 1.94665150e-07, 1.09205840e-07, 4.94569726e-02]), array([9.67452725e-01, 3.28518661e-07, 1.34581103e-07, 3.25468121e-02]), array([9.84363352e-01, 1.89707044e-08, 4.98629462e-09, 1.56366239e-02]), array([9.99999992e-01, 2.50020989e-09, 4.52565810e-09, 8.15150741e-10]), array([9.99999846e-01, 5.22713541e-08, 8.11875986e-08, 2.09548151e-08]), array([9.99999866e-01, 4.52923795e-08, 7.58356471e-08, 1.31202636e-08])]\n"
     ]
    }
   ],
   "source": [
    "# Inputs\n",
    "r = np.array(data_2030.taux_credit)\n",
    "e = np.array(data_2030.emission_ges)\n",
    "n = len(r)\n",
    "\n",
    "# Visualisation\n",
    "r_opt = []\n",
    "e_opt = []\n",
    "w_opt = []\n",
    "\n",
    "for t in np.arange(9.8, 16, 0.1):\n",
    "    w = cp.Variable(n, nonneg=True)\n",
    "    objective = cp.Minimize(- w@r)\n",
    "    contraints = [\n",
    "        cp.sum(w) == 1, \n",
    "        w@e <= t\n",
    "    ]\n",
    "\n",
    "\n",
    "    # Résolution\n",
    "    prob = cp.Problem(objective, contraints)\n",
    "    prob.solve()\n",
    "    \n",
    "    w = w.value\n",
    "    \n",
    "    w_opt.append(w)\n",
    "    r_opt.append(w@r)\n",
    "    e_opt.append(w@e)\n",
    "\n",
    "def singularities(x, y, tol):\n",
    "    singu = []\n",
    "    for i in range(1, len(y)-1):\n",
    "        if abs(((y[i+1] - y[i])/(x[i+1] - x[i])) - ((y[i] - y[i-1])/(x[i] - x[i-1])))>tol:\n",
    "            singu.append([x[i], y[i]])\n",
    "    return singu\n",
    "\n",
    "\n",
    "singu = np.array(singularities(e_opt, r_opt, tol=1e-6))\n",
    "plt.scatter(x=e_opt, y=r_opt)\n",
    "plt.scatter(x=singu[:, 0], y=singu[:, 1], color='red')\n",
    "for s in singu:\n",
    "    print(s)\n",
    "    plt.axvline(x=s[0], linestyle='--', color='black')\n",
    "    plt.axhline(y=s[1], linestyle='--', color='black')\n",
    "\n",
    "plt.grid(True)\n",
    "plt.ylabel(\"Rendement du portefeuille\")\n",
    "plt.xlabel(\"Emissions GES (kg/m$^2$/an)\")\n",
    "plt.title(\"Frontière efficiente\")\n",
    "plt.tight_layout()\n",
    "plt.show()\n",
    "print(w_opt)"
   ]
  }
 ],
 "metadata": {
  "kernelspec": {
   "display_name": "Python 3",
   "language": "python",
   "name": "python3"
  },
  "language_info": {
   "codemirror_mode": {
    "name": "ipython",
    "version": 3
   },
   "file_extension": ".py",
   "mimetype": "text/x-python",
   "name": "python",
   "nbconvert_exporter": "python",
   "pygments_lexer": "ipython3",
   "version": "3.12.5"
  }
 },
 "nbformat": 4,
 "nbformat_minor": 2
}
