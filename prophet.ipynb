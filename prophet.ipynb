{
 "cells": [
  {
   "cell_type": "markdown",
   "metadata": {},
   "source": [
    "# **Prophet model**"
   ]
  },
  {
   "cell_type": "markdown",
   "metadata": {},
   "source": [
    "**SEX**"
   ]
  },
  {
   "cell_type": "code",
   "execution_count": 22,
   "metadata": {},
   "outputs": [],
   "source": [
    "import numpy as np\n",
    "import pandas as pd\n",
    "import matplotlib.pyplot as plt\n",
    "import seaborn as sns\n",
    "from prophet import Prophet\n",
    "from aggregate import *"
   ]
  },
  {
   "cell_type": "code",
   "execution_count": 15,
   "metadata": {},
   "outputs": [],
   "source": [
    "data=pd.read_csv('data_final.csv',index_col='Unnamed: 0')"
   ]
  },
  {
   "cell_type": "code",
   "execution_count": 16,
   "metadata": {},
   "outputs": [
    {
     "data": {
      "text/html": [
       "<div>\n",
       "<style scoped>\n",
       "    .dataframe tbody tr th:only-of-type {\n",
       "        vertical-align: middle;\n",
       "    }\n",
       "\n",
       "    .dataframe tbody tr th {\n",
       "        vertical-align: top;\n",
       "    }\n",
       "\n",
       "    .dataframe thead th {\n",
       "        text-align: right;\n",
       "    }\n",
       "</style>\n",
       "<table border=\"1\" class=\"dataframe\">\n",
       "  <thead>\n",
       "    <tr style=\"text-align: right;\">\n",
       "      <th></th>\n",
       "      <th>date_visite_diag</th>\n",
       "      <th>annee_construction</th>\n",
       "      <th>surface_utile</th>\n",
       "      <th>code_postal</th>\n",
       "      <th>emission_ges</th>\n",
       "      <th>coord_x</th>\n",
       "      <th>coord_y</th>\n",
       "      <th>num_departement</th>\n",
       "      <th>sect_act_admin</th>\n",
       "      <th>sect_act_autre</th>\n",
       "      <th>sect_act_centre_com</th>\n",
       "      <th>sect_act_occup_cont</th>\n",
       "    </tr>\n",
       "  </thead>\n",
       "  <tbody>\n",
       "    <tr>\n",
       "      <th>0</th>\n",
       "      <td>2013-04-10</td>\n",
       "      <td>1947.0</td>\n",
       "      <td>40.0</td>\n",
       "      <td>30000.0</td>\n",
       "      <td>1.000000</td>\n",
       "      <td>809334.039112</td>\n",
       "      <td>6.305141e+06</td>\n",
       "      <td>30.0</td>\n",
       "      <td>0.0</td>\n",
       "      <td>1.0</td>\n",
       "      <td>0.0</td>\n",
       "      <td>0.0</td>\n",
       "    </tr>\n",
       "    <tr>\n",
       "      <th>1</th>\n",
       "      <td>2013-04-12</td>\n",
       "      <td>1983.0</td>\n",
       "      <td>5.3</td>\n",
       "      <td>56700.0</td>\n",
       "      <td>12.374286</td>\n",
       "      <td>396264.583813</td>\n",
       "      <td>6.822056e+06</td>\n",
       "      <td>56.0</td>\n",
       "      <td>1.0</td>\n",
       "      <td>0.0</td>\n",
       "      <td>0.0</td>\n",
       "      <td>0.0</td>\n",
       "    </tr>\n",
       "    <tr>\n",
       "      <th>2</th>\n",
       "      <td>2013-04-11</td>\n",
       "      <td>1900.0</td>\n",
       "      <td>100.0</td>\n",
       "      <td>17000.0</td>\n",
       "      <td>9.857143</td>\n",
       "      <td>379994.028840</td>\n",
       "      <td>6.570891e+06</td>\n",
       "      <td>17.0</td>\n",
       "      <td>0.0</td>\n",
       "      <td>1.0</td>\n",
       "      <td>0.0</td>\n",
       "      <td>0.0</td>\n",
       "    </tr>\n",
       "    <tr>\n",
       "      <th>3</th>\n",
       "      <td>2013-04-02</td>\n",
       "      <td>2001.0</td>\n",
       "      <td>100.0</td>\n",
       "      <td>69100.0</td>\n",
       "      <td>11.530000</td>\n",
       "      <td>846075.279942</td>\n",
       "      <td>6.520642e+06</td>\n",
       "      <td>69.0</td>\n",
       "      <td>1.0</td>\n",
       "      <td>0.0</td>\n",
       "      <td>0.0</td>\n",
       "      <td>0.0</td>\n",
       "    </tr>\n",
       "    <tr>\n",
       "      <th>4</th>\n",
       "      <td>2013-04-15</td>\n",
       "      <td>1947.0</td>\n",
       "      <td>100.0</td>\n",
       "      <td>64700.0</td>\n",
       "      <td>9.428571</td>\n",
       "      <td>313376.642857</td>\n",
       "      <td>6.263498e+06</td>\n",
       "      <td>64.0</td>\n",
       "      <td>0.0</td>\n",
       "      <td>1.0</td>\n",
       "      <td>0.0</td>\n",
       "      <td>0.0</td>\n",
       "    </tr>\n",
       "  </tbody>\n",
       "</table>\n",
       "</div>"
      ],
      "text/plain": [
       "  date_visite_diag  annee_construction  surface_utile  code_postal  \\\n",
       "0       2013-04-10              1947.0           40.0      30000.0   \n",
       "1       2013-04-12              1983.0            5.3      56700.0   \n",
       "2       2013-04-11              1900.0          100.0      17000.0   \n",
       "3       2013-04-02              2001.0          100.0      69100.0   \n",
       "4       2013-04-15              1947.0          100.0      64700.0   \n",
       "\n",
       "   emission_ges        coord_x       coord_y  num_departement  sect_act_admin  \\\n",
       "0      1.000000  809334.039112  6.305141e+06             30.0             0.0   \n",
       "1     12.374286  396264.583813  6.822056e+06             56.0             1.0   \n",
       "2      9.857143  379994.028840  6.570891e+06             17.0             0.0   \n",
       "3     11.530000  846075.279942  6.520642e+06             69.0             1.0   \n",
       "4      9.428571  313376.642857  6.263498e+06             64.0             0.0   \n",
       "\n",
       "   sect_act_autre  sect_act_centre_com  sect_act_occup_cont  \n",
       "0             1.0                  0.0                  0.0  \n",
       "1             0.0                  0.0                  0.0  \n",
       "2             1.0                  0.0                  0.0  \n",
       "3             0.0                  0.0                  0.0  \n",
       "4             1.0                  0.0                  0.0  "
      ]
     },
     "execution_count": 16,
     "metadata": {},
     "output_type": "execute_result"
    }
   ],
   "source": [
    "data.head()"
   ]
  },
  {
   "cell_type": "markdown",
   "metadata": {},
   "source": [
    "We rename the dates et target columns to `ds` and `y` as it should be for `Prophet` model. We also sort by `ds`. "
   ]
  },
  {
   "cell_type": "code",
   "execution_count": 23,
   "metadata": {},
   "outputs": [],
   "source": [
    "data.rename(columns={'date_visite_diag':'ds','emission_ges':'y'},inplace=True)\n",
    "data.sort_values(by='ds',inplace=True)"
   ]
  },
  {
   "cell_type": "markdown",
   "metadata": {},
   "source": [
    "We divide our data by categories"
   ]
  },
  {
   "cell_type": "code",
   "execution_count": 24,
   "metadata": {},
   "outputs": [],
   "source": [
    "data_admin=data[data.sect_act_admin==1]\n",
    "data_autre=data[data.sect_act_autre==1]\n",
    "data_centre_com=data[data.sect_act_centre_com==1]\n",
    "data_occup_cont=data[data.sect_act_occup_cont==1]"
   ]
  },
  {
   "cell_type": "markdown",
   "metadata": {},
   "source": [
    "## Approach number one:"
   ]
  },
  {
   "cell_type": "markdown",
   "metadata": {},
   "source": [
    "## Approach number two:"
   ]
  },
  {
   "cell_type": "code",
   "execution_count": 25,
   "metadata": {},
   "outputs": [
    {
     "data": {
      "text/plain": [
       "<prophet.forecaster.Prophet at 0x1ea17dcec00>"
      ]
     },
     "execution_count": 25,
     "metadata": {},
     "output_type": "execute_result"
    }
   ],
   "source": [
    "model=Prophet()\n",
    "\n",
    "model.add_regressor('annee_construction')\n",
    "model.add_regressor('surface_utile')\n",
    "model.add_regressor('code_postal')\n",
    "model.add_regressor('coord_x')\n",
    "model.add_regressor('coord_y')\n",
    "model.add_regressor('num_departement')"
   ]
  },
  {
   "cell_type": "markdown",
   "metadata": {},
   "source": [
    "### $1^{st}$ category"
   ]
  },
  {
   "cell_type": "code",
   "execution_count": 26,
   "metadata": {},
   "outputs": [
    {
     "name": "stderr",
     "output_type": "stream",
     "text": [
      "15:46:30 - cmdstanpy - INFO - Chain [1] start processing\n",
      "15:48:42 - cmdstanpy - INFO - Chain [1] done processing\n"
     ]
    },
    {
     "data": {
      "text/plain": [
       "<prophet.forecaster.Prophet at 0x1ea17dcec00>"
      ]
     },
     "execution_count": 26,
     "metadata": {},
     "output_type": "execute_result"
    }
   ],
   "source": [
    "model.fit(data_admin)"
   ]
  }
 ],
 "metadata": {
  "kernelspec": {
   "display_name": "Python 3",
   "language": "python",
   "name": "python3"
  },
  "language_info": {
   "codemirror_mode": {
    "name": "ipython",
    "version": 3
   },
   "file_extension": ".py",
   "mimetype": "text/x-python",
   "name": "python",
   "nbconvert_exporter": "python",
   "pygments_lexer": "ipython3",
   "version": "3.12.5"
  }
 },
 "nbformat": 4,
 "nbformat_minor": 2
}
